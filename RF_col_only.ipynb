{
 "cells": [
  {
   "cell_type": "markdown",
   "metadata": {},
   "source": [
    "# 1. Import Libraries"
   ]
  },
  {
   "cell_type": "code",
   "execution_count": 1,
   "metadata": {},
   "outputs": [],
   "source": [
    "import numpy as np\n",
    "import matplotlib.pyplot as plt"
   ]
  },
  {
   "cell_type": "markdown",
   "metadata": {},
   "source": [
    "# 2. Importing Dataset"
   ]
  },
  {
   "cell_type": "code",
   "execution_count": 2,
   "metadata": {},
   "outputs": [],
   "source": [
    "from astropy.io import fits\n",
    "hdul = fits.open('combined_data.fits')"
   ]
  },
  {
   "cell_type": "code",
   "execution_count": 3,
   "metadata": {},
   "outputs": [],
   "source": [
    "data = hdul[1].data\n",
    "\n",
    "subclass =[]\n",
    "for data_point in data:\n",
    "    if data_point[-8]== 'STARFORMING' or data_point[-8]=='AGN':\n",
    "        subclass.append(data_point[-8])\n",
    "    else:\n",
    "        pass\n",
    "\n",
    "a = r_mag_list =[]\n",
    "b = g_mag_list =[]\n",
    "c = u_mag_list =[]\n",
    "d = i_mag_list =[]\n",
    "e = z_mag_list =[]\n",
    "\n",
    "for data_point in data:\n",
    "    if data_point[-8]=='STARFORMING' or data_point[-8]=='AGN':\n",
    "        a.append(data_point[-31])\n",
    "        b.append(data_point[-32])\n",
    "        c.append(data_point[-33])\n",
    "        d.append(data_point[-30])\n",
    "        e.append(data_point[-29])\n",
    "    else:\n",
    "        pass\n",
    "\n",
    "u_g = []\n",
    "zip_object = zip(c, b)\n",
    "for u, g in zip_object:\n",
    "    u_g.append(u - g)\n",
    "f = u_g\n",
    "\n",
    "g_r = []\n",
    "zip_object = zip(b, a)\n",
    "for g, r in zip_object:\n",
    "    g_r.append(g - r)\n",
    "h = g_r\n",
    "\n",
    "r_i = []\n",
    "zip_object = zip(a, d)\n",
    "for r, i in zip_object:\n",
    "    r_i.append(r - i)\n",
    "j = r_i\n",
    "\n",
    "i_z = []\n",
    "zip_object = zip(d, e)\n",
    "for i, z in zip_object:\n",
    "    i_z.append(i - z)\n",
    "k = i_z"
   ]
  },
  {
   "cell_type": "code",
   "execution_count": 4,
   "metadata": {},
   "outputs": [
    {
     "data": {
      "text/plain": [
       "2866856"
      ]
     },
     "execution_count": 4,
     "metadata": {},
     "output_type": "execute_result"
    }
   ],
   "source": [
    "len(data)"
   ]
  },
  {
   "cell_type": "markdown",
   "metadata": {},
   "source": [
    "# 3. Preparing Data For Training"
   ]
  },
  {
   "cell_type": "code",
   "execution_count": 5,
   "metadata": {},
   "outputs": [
    {
     "name": "stdout",
     "output_type": "stream",
     "text": [
      "len_X= 19819\n",
      "len_y= 19819\n"
     ]
    }
   ],
   "source": [
    "import pandas as pd\n",
    "from pandas import DataFrame\n",
    "X =   DataFrame([f, h, j, k]).transpose()\n",
    "X.columns=['u-g', 'g-r', 'r-i', 'i-z']\n",
    "print('len_X=', len(X))\n",
    "\n",
    "y = pd.DataFrame(subclass)\n",
    "y.columns=['SPEC_SUBCLASS']\n",
    "print('len_y=', len(y))"
   ]
  },
  {
   "cell_type": "code",
   "execution_count": 6,
   "metadata": {},
   "outputs": [
    {
     "name": "stdout",
     "output_type": "stream",
     "text": [
      "ytrain= 17837\n",
      "ytest= 1982\n"
     ]
    }
   ],
   "source": [
    "from sklearn.model_selection import train_test_split\n",
    "X_train, X_test, y_train, y_test = train_test_split(X, y, test_size=0.1, random_state=0)\n",
    "\n",
    "print('ytrain=', len(y_train))\n",
    "print('ytest=', len(y_test))"
   ]
  },
  {
   "cell_type": "code",
   "execution_count": 7,
   "metadata": {},
   "outputs": [
    {
     "data": {
      "text/plain": [
       "STARFORMING    11310\n",
       "AGN             6527\n",
       "Name: SPEC_SUBCLASS, dtype: int64"
      ]
     },
     "execution_count": 7,
     "metadata": {},
     "output_type": "execute_result"
    }
   ],
   "source": [
    "y_train['SPEC_SUBCLASS'].value_counts()"
   ]
  },
  {
   "cell_type": "code",
   "execution_count": 8,
   "metadata": {},
   "outputs": [
    {
     "data": {
      "text/plain": [
       "STARFORMING    1241\n",
       "AGN             741\n",
       "Name: SPEC_SUBCLASS, dtype: int64"
      ]
     },
     "execution_count": 8,
     "metadata": {},
     "output_type": "execute_result"
    }
   ],
   "source": [
    "y_test['SPEC_SUBCLASS'].value_counts()"
   ]
  },
  {
   "cell_type": "markdown",
   "metadata": {},
   "source": [
    "# 4. Feature Scaling"
   ]
  },
  {
   "cell_type": "code",
   "execution_count": 9,
   "metadata": {},
   "outputs": [],
   "source": [
    "# Feature Scaling\n",
    "from sklearn.preprocessing import StandardScaler\n",
    "\n",
    "sc = StandardScaler()\n",
    "X_train = sc.fit_transform(X_train)\n",
    "X_test = sc.transform(X_test)"
   ]
  },
  {
   "cell_type": "markdown",
   "metadata": {},
   "source": [
    "# 5. Training the Algorithm"
   ]
  },
  {
   "cell_type": "code",
   "execution_count": 73,
   "metadata": {},
   "outputs": [
    {
     "name": "stderr",
     "output_type": "stream",
     "text": [
      "C:\\Users\\27719\\Anaconda3\\lib\\site-packages\\ipykernel_launcher.py:4: DataConversionWarning: A column-vector y was passed when a 1d array was expected. Please change the shape of y to (n_samples,), for example using ravel().\n",
      "  after removing the cwd from sys.path.\n"
     ]
    },
    {
     "name": "stdout",
     "output_type": "stream",
     "text": [
      "ypred= 1982\n"
     ]
    }
   ],
   "source": [
    "from sklearn.ensemble import RandomForestClassifier\n",
    "\n",
    "classifier = RandomForestClassifier(n_estimators=20, random_state=0)\n",
    "classifier.fit(X_train, y_train)\n",
    "\n",
    "y_pred = classifier.predict(X_test)\n",
    "print('ypred=', len(y_pred))"
   ]
  },
  {
   "cell_type": "code",
   "execution_count": 74,
   "metadata": {},
   "outputs": [
    {
     "data": {
      "text/plain": [
       "STARFORMING    1260\n",
       "AGN             722\n",
       "Name: y_pred, dtype: int64"
      ]
     },
     "execution_count": 74,
     "metadata": {},
     "output_type": "execute_result"
    }
   ],
   "source": [
    "pred = pd.DataFrame(y_pred)\n",
    "pred.columns=['y_pred']\n",
    "pred['y_pred'].value_counts()"
   ]
  },
  {
   "cell_type": "code",
   "execution_count": 75,
   "metadata": {},
   "outputs": [
    {
     "name": "stdout",
     "output_type": "stream",
     "text": [
      "[[ 611  130]\n",
      " [ 111 1130]]\n",
      "              precision    recall  f1-score   support\n",
      "\n",
      "         AGN       0.85      0.82      0.84       741\n",
      " STARFORMING       0.90      0.91      0.90      1241\n",
      "\n",
      "    accuracy                           0.88      1982\n",
      "   macro avg       0.87      0.87      0.87      1982\n",
      "weighted avg       0.88      0.88      0.88      1982\n",
      "\n",
      "0.8784056508577195\n"
     ]
    }
   ],
   "source": [
    "from sklearn.metrics import classification_report, confusion_matrix, accuracy_score\n",
    "\n",
    "print(confusion_matrix(y_test,y_pred))\n",
    "print(classification_report(y_test,y_pred))\n",
    "print(accuracy_score(y_test, y_pred))"
   ]
  },
  {
   "cell_type": "markdown",
   "metadata": {},
   "source": [
    "# After classification"
   ]
  },
  {
   "cell_type": "code",
   "execution_count": 43,
   "metadata": {},
   "outputs": [
    {
     "data": {
      "text/html": [
       "<div>\n",
       "<style scoped>\n",
       "    .dataframe tbody tr th:only-of-type {\n",
       "        vertical-align: middle;\n",
       "    }\n",
       "\n",
       "    .dataframe tbody tr th {\n",
       "        vertical-align: top;\n",
       "    }\n",
       "\n",
       "    .dataframe thead th {\n",
       "        text-align: right;\n",
       "    }\n",
       "</style>\n",
       "<table border=\"1\" class=\"dataframe\">\n",
       "  <thead>\n",
       "    <tr style=\"text-align: right;\">\n",
       "      <th></th>\n",
       "      <th>u-g</th>\n",
       "      <th>g-r</th>\n",
       "      <th>r-i</th>\n",
       "      <th>i-z</th>\n",
       "      <th>y_pred</th>\n",
       "    </tr>\n",
       "  </thead>\n",
       "  <tbody>\n",
       "    <tr>\n",
       "      <td>0</td>\n",
       "      <td>0.297137</td>\n",
       "      <td>-0.953452</td>\n",
       "      <td>-0.921437</td>\n",
       "      <td>0.653608</td>\n",
       "      <td>STARFORMING</td>\n",
       "    </tr>\n",
       "    <tr>\n",
       "      <td>1</td>\n",
       "      <td>0.822161</td>\n",
       "      <td>-0.013181</td>\n",
       "      <td>0.523479</td>\n",
       "      <td>0.280174</td>\n",
       "      <td>STARFORMING</td>\n",
       "    </tr>\n",
       "    <tr>\n",
       "      <td>2</td>\n",
       "      <td>-0.999293</td>\n",
       "      <td>-0.425129</td>\n",
       "      <td>-0.182243</td>\n",
       "      <td>-0.108898</td>\n",
       "      <td>STARFORMING</td>\n",
       "    </tr>\n",
       "    <tr>\n",
       "      <td>3</td>\n",
       "      <td>-0.219599</td>\n",
       "      <td>-0.602088</td>\n",
       "      <td>-0.408328</td>\n",
       "      <td>-0.316996</td>\n",
       "      <td>STARFORMING</td>\n",
       "    </tr>\n",
       "    <tr>\n",
       "      <td>4</td>\n",
       "      <td>-1.024166</td>\n",
       "      <td>-1.291111</td>\n",
       "      <td>-1.398860</td>\n",
       "      <td>-0.699294</td>\n",
       "      <td>STARFORMING</td>\n",
       "    </tr>\n",
       "    <tr>\n",
       "      <td>...</td>\n",
       "      <td>...</td>\n",
       "      <td>...</td>\n",
       "      <td>...</td>\n",
       "      <td>...</td>\n",
       "      <td>...</td>\n",
       "    </tr>\n",
       "    <tr>\n",
       "      <td>1977</td>\n",
       "      <td>-0.225904</td>\n",
       "      <td>-0.350199</td>\n",
       "      <td>0.420306</td>\n",
       "      <td>0.166993</td>\n",
       "      <td>STARFORMING</td>\n",
       "    </tr>\n",
       "    <tr>\n",
       "      <td>1978</td>\n",
       "      <td>-0.073065</td>\n",
       "      <td>-0.886498</td>\n",
       "      <td>-0.386384</td>\n",
       "      <td>0.018881</td>\n",
       "      <td>STARFORMING</td>\n",
       "    </tr>\n",
       "    <tr>\n",
       "      <td>1979</td>\n",
       "      <td>0.123570</td>\n",
       "      <td>0.036559</td>\n",
       "      <td>0.242505</td>\n",
       "      <td>0.497657</td>\n",
       "      <td>STARFORMING</td>\n",
       "    </tr>\n",
       "    <tr>\n",
       "      <td>1980</td>\n",
       "      <td>0.142316</td>\n",
       "      <td>-0.149008</td>\n",
       "      <td>-0.651438</td>\n",
       "      <td>0.242621</td>\n",
       "      <td>STARFORMING</td>\n",
       "    </tr>\n",
       "    <tr>\n",
       "      <td>1981</td>\n",
       "      <td>-0.426326</td>\n",
       "      <td>-0.492086</td>\n",
       "      <td>-0.007184</td>\n",
       "      <td>-0.302920</td>\n",
       "      <td>STARFORMING</td>\n",
       "    </tr>\n",
       "  </tbody>\n",
       "</table>\n",
       "<p>1982 rows × 5 columns</p>\n",
       "</div>"
      ],
      "text/plain": [
       "           u-g       g-r       r-i       i-z       y_pred\n",
       "0     0.297137 -0.953452 -0.921437  0.653608  STARFORMING\n",
       "1     0.822161 -0.013181  0.523479  0.280174  STARFORMING\n",
       "2    -0.999293 -0.425129 -0.182243 -0.108898  STARFORMING\n",
       "3    -0.219599 -0.602088 -0.408328 -0.316996  STARFORMING\n",
       "4    -1.024166 -1.291111 -1.398860 -0.699294  STARFORMING\n",
       "...        ...       ...       ...       ...          ...\n",
       "1977 -0.225904 -0.350199  0.420306  0.166993  STARFORMING\n",
       "1978 -0.073065 -0.886498 -0.386384  0.018881  STARFORMING\n",
       "1979  0.123570  0.036559  0.242505  0.497657  STARFORMING\n",
       "1980  0.142316 -0.149008 -0.651438  0.242621  STARFORMING\n",
       "1981 -0.426326 -0.492086 -0.007184 -0.302920  STARFORMING\n",
       "\n",
       "[1982 rows x 5 columns]"
      ]
     },
     "execution_count": 43,
     "metadata": {},
     "output_type": "execute_result"
    }
   ],
   "source": [
    "dataset = pd.DataFrame({'u-g': X_test[:, 0], 'g-r': X_test[:, 1], 'r-i': X_test[:, 2], 'i-z': X_test[:, 3]})\n",
    "pred = pd.DataFrame(y_pred)\n",
    "pred.columns=['y_pred']\n",
    "after_classification = pd.concat([dataset, pred], axis=1)\n",
    "after_classification"
   ]
  },
  {
   "cell_type": "markdown",
   "metadata": {},
   "source": [
    "# After classification"
   ]
  },
  {
   "cell_type": "code",
   "execution_count": 44,
   "metadata": {},
   "outputs": [
    {
     "data": {
      "text/html": [
       "<div>\n",
       "<style scoped>\n",
       "    .dataframe tbody tr th:only-of-type {\n",
       "        vertical-align: middle;\n",
       "    }\n",
       "\n",
       "    .dataframe tbody tr th {\n",
       "        vertical-align: top;\n",
       "    }\n",
       "\n",
       "    .dataframe thead th {\n",
       "        text-align: right;\n",
       "    }\n",
       "</style>\n",
       "<table border=\"1\" class=\"dataframe\">\n",
       "  <thead>\n",
       "    <tr style=\"text-align: right;\">\n",
       "      <th></th>\n",
       "      <th>u-g</th>\n",
       "      <th>g-r</th>\n",
       "      <th>r-i</th>\n",
       "      <th>i-z</th>\n",
       "      <th>y_pred</th>\n",
       "    </tr>\n",
       "  </thead>\n",
       "  <tbody>\n",
       "    <tr>\n",
       "      <td>0</td>\n",
       "      <td>0.297137</td>\n",
       "      <td>-0.953452</td>\n",
       "      <td>-0.921437</td>\n",
       "      <td>0.653608</td>\n",
       "      <td>STARFORMING</td>\n",
       "    </tr>\n",
       "    <tr>\n",
       "      <td>1</td>\n",
       "      <td>0.822161</td>\n",
       "      <td>-0.013181</td>\n",
       "      <td>0.523479</td>\n",
       "      <td>0.280174</td>\n",
       "      <td>STARFORMING</td>\n",
       "    </tr>\n",
       "    <tr>\n",
       "      <td>2</td>\n",
       "      <td>-0.999293</td>\n",
       "      <td>-0.425129</td>\n",
       "      <td>-0.182243</td>\n",
       "      <td>-0.108898</td>\n",
       "      <td>STARFORMING</td>\n",
       "    </tr>\n",
       "    <tr>\n",
       "      <td>3</td>\n",
       "      <td>-0.219599</td>\n",
       "      <td>-0.602088</td>\n",
       "      <td>-0.408328</td>\n",
       "      <td>-0.316996</td>\n",
       "      <td>STARFORMING</td>\n",
       "    </tr>\n",
       "    <tr>\n",
       "      <td>4</td>\n",
       "      <td>-1.024166</td>\n",
       "      <td>-1.291111</td>\n",
       "      <td>-1.398860</td>\n",
       "      <td>-0.699294</td>\n",
       "      <td>STARFORMING</td>\n",
       "    </tr>\n",
       "    <tr>\n",
       "      <td>...</td>\n",
       "      <td>...</td>\n",
       "      <td>...</td>\n",
       "      <td>...</td>\n",
       "      <td>...</td>\n",
       "      <td>...</td>\n",
       "    </tr>\n",
       "    <tr>\n",
       "      <td>1977</td>\n",
       "      <td>-0.225904</td>\n",
       "      <td>-0.350199</td>\n",
       "      <td>0.420306</td>\n",
       "      <td>0.166993</td>\n",
       "      <td>STARFORMING</td>\n",
       "    </tr>\n",
       "    <tr>\n",
       "      <td>1978</td>\n",
       "      <td>-0.073065</td>\n",
       "      <td>-0.886498</td>\n",
       "      <td>-0.386384</td>\n",
       "      <td>0.018881</td>\n",
       "      <td>STARFORMING</td>\n",
       "    </tr>\n",
       "    <tr>\n",
       "      <td>1979</td>\n",
       "      <td>0.123570</td>\n",
       "      <td>0.036559</td>\n",
       "      <td>0.242505</td>\n",
       "      <td>0.497657</td>\n",
       "      <td>STARFORMING</td>\n",
       "    </tr>\n",
       "    <tr>\n",
       "      <td>1980</td>\n",
       "      <td>0.142316</td>\n",
       "      <td>-0.149008</td>\n",
       "      <td>-0.651438</td>\n",
       "      <td>0.242621</td>\n",
       "      <td>STARFORMING</td>\n",
       "    </tr>\n",
       "    <tr>\n",
       "      <td>1981</td>\n",
       "      <td>-0.426326</td>\n",
       "      <td>-0.492086</td>\n",
       "      <td>-0.007184</td>\n",
       "      <td>-0.302920</td>\n",
       "      <td>STARFORMING</td>\n",
       "    </tr>\n",
       "  </tbody>\n",
       "</table>\n",
       "<p>1982 rows × 5 columns</p>\n",
       "</div>"
      ],
      "text/plain": [
       "           u-g       g-r       r-i       i-z       y_pred\n",
       "0     0.297137 -0.953452 -0.921437  0.653608  STARFORMING\n",
       "1     0.822161 -0.013181  0.523479  0.280174  STARFORMING\n",
       "2    -0.999293 -0.425129 -0.182243 -0.108898  STARFORMING\n",
       "3    -0.219599 -0.602088 -0.408328 -0.316996  STARFORMING\n",
       "4    -1.024166 -1.291111 -1.398860 -0.699294  STARFORMING\n",
       "...        ...       ...       ...       ...          ...\n",
       "1977 -0.225904 -0.350199  0.420306  0.166993  STARFORMING\n",
       "1978 -0.073065 -0.886498 -0.386384  0.018881  STARFORMING\n",
       "1979  0.123570  0.036559  0.242505  0.497657  STARFORMING\n",
       "1980  0.142316 -0.149008 -0.651438  0.242621  STARFORMING\n",
       "1981 -0.426326 -0.492086 -0.007184 -0.302920  STARFORMING\n",
       "\n",
       "[1982 rows x 5 columns]"
      ]
     },
     "execution_count": 44,
     "metadata": {},
     "output_type": "execute_result"
    }
   ],
   "source": [
    "dataset = pd.DataFrame({'u-g': X_test[:, 0], 'g-r': X_test[:, 1], 'r-i': X_test[:, 2], 'i-z': X_test[:, 3]})\n",
    "pred = pd.DataFrame(y_pred)\n",
    "pred.columns=['y_pred']\n",
    "after_classification = pd.concat([dataset, pred], axis=1)\n",
    "after_classification"
   ]
  },
  {
   "cell_type": "code",
   "execution_count": 45,
   "metadata": {},
   "outputs": [],
   "source": [
    "ac = after_classification.values"
   ]
  },
  {
   "cell_type": "markdown",
   "metadata": {},
   "source": [
    "# g-r vs u-g for both SFG & AGN after classification"
   ]
  },
  {
   "cell_type": "code",
   "execution_count": 47,
   "metadata": {},
   "outputs": [
    {
     "data": {
      "image/png": "[encoded data removed]",
      "text/plain": [
       "<Figure size 432x288 with 1 Axes>"
      ]
     },
     "metadata": {
      "needs_background": "light"
     },
     "output_type": "display_data"
    }
   ],
   "source": [
    "#For STARFORMING \n",
    "a = u_g = []\n",
    "b = g_r = []\n",
    "\n",
    "for data_point in ac:\n",
    "    if data_point[-1]=='STARFORMING':\n",
    "        a.append(data_point[-5])\n",
    "        b.append(data_point[-4])\n",
    "    else:\n",
    "        pass\n",
    "#For AGN\n",
    "c = u_g = []\n",
    "d = g_r = []\n",
    "\n",
    "for data_point in ac:\n",
    "    if data_point[-1]=='AGN':\n",
    "        c.append(data_point[-5])\n",
    "        d.append(data_point[-4])\n",
    "    else:\n",
    "        pass\n",
    "\n",
    "\n",
    "plt.xlabel('u-g')\n",
    "plt.ylabel('g-r')\n",
    "plt.title('g-r vs u-g')\n",
    "plt.xlim(-2, 2)\n",
    "plt.ylim(-3, 3)\n",
    "plt.gca().scatter(a, b, color='red', marker='o')\n",
    "plt.gca().scatter(c, d, color='blue', marker='o')\n",
    "plt.gca().legend(('SFG','AGN'), loc = 'upper right', numpoints = 1)\n",
    "plt.savefig('g-r_vs_u-g_for_both_SFG_&_AGN_after_classification_RF_c_only.png')\n",
    "plt.show()"
   ]
  },
  {
   "cell_type": "markdown",
   "metadata": {},
   "source": [
    "# r-i vs g-r for both SFG & AGN after classification"
   ]
  },
  {
   "cell_type": "code",
   "execution_count": 50,
   "metadata": {},
   "outputs": [
    {
     "data": {
      "image/png": "[encoded data removed]",
      "text/plain": [
       "<Figure size 432x288 with 1 Axes>"
      ]
     },
     "metadata": {
      "needs_background": "light"
     },
     "output_type": "display_data"
    }
   ],
   "source": [
    "#For SFG\n",
    "a = g_r =[]\n",
    "b = r_i =[]\n",
    "\n",
    "for data_point in ac:\n",
    "    if data_point[-1]=='STARFORMING':\n",
    "        a.append(data_point[-4])\n",
    "        b.append(data_point[-3])\n",
    "    else:\n",
    "        pass\n",
    "\n",
    "#For AGN\n",
    "c = g_r =[]\n",
    "d = r_i =[]\n",
    "\n",
    "for data_point in ac:\n",
    "    if data_point[-1]=='AGN':\n",
    "        c.append(data_point[-4])\n",
    "        d.append(data_point[-3])\n",
    "    else:\n",
    "        pass\n",
    "    \n",
    "plt.xlabel('g-r')\n",
    "plt.ylabel('r-i')\n",
    "plt.title('r-i vs g-r')\n",
    "plt.xlim(-3, 3)\n",
    "plt.ylim(-2, 2)\n",
    "plt.gca().scatter(a, b, color='red', marker='o')\n",
    "plt.gca().scatter(c, d, color='blue', marker='o')\n",
    "plt.gca().legend(('SFG','AGN'), loc = 'upper right', numpoints = 1)\n",
    "plt.savefig('r-i_vs_g-r_for_both_SFG_&_AGN_after_classification_RF_c_only.png')\n",
    "plt.show()"
   ]
  },
  {
   "cell_type": "markdown",
   "metadata": {},
   "source": [
    "# i-z vs r-i for both SFG & AGN after classification"
   ]
  },
  {
   "cell_type": "code",
   "execution_count": 51,
   "metadata": {},
   "outputs": [
    {
     "data": {
      "image/png": "[encoded data removed]",
      "text/plain": [
       "<Figure size 432x288 with 1 Axes>"
      ]
     },
     "metadata": {
      "needs_background": "light"
     },
     "output_type": "display_data"
    }
   ],
   "source": [
    "#For SFG\n",
    "a = r_i =[]\n",
    "b = i_z =[]\n",
    "\n",
    "for data_point in ac:\n",
    "    if data_point[-1]=='STARFORMING':\n",
    "        a.append(data_point[-3])\n",
    "        b.append(data_point[-2])\n",
    "    else:\n",
    "        pass\n",
    "\n",
    "#For AGN\n",
    "c = r_i =[]\n",
    "d = i_z =[]\n",
    "\n",
    "for data_point in ac:\n",
    "    if data_point[-1]=='AGN':\n",
    "        c.append(data_point[-3])\n",
    "        d.append(data_point[-2])\n",
    "    else:\n",
    "        pass\n",
    "    \n",
    "plt.xlabel('r-i')\n",
    "plt.ylabel('i-z')\n",
    "plt.title('i-z vs r-i')\n",
    "plt.xlim(-1.5, 1.5)\n",
    "plt.ylim(-1.5, 1.5)\n",
    "plt.gca().scatter(a, b, color='red', marker='o')\n",
    "plt.gca().scatter(c, d, color='blue', marker='o')\n",
    "plt.gca().legend(('SFG','AGN'), loc = 'upper right', numpoints = 1)\n",
    "plt.savefig('i-z_vs_r-i_for_both_SFG_&_AGN_after_classification_RF_c_only.png')\n",
    "plt.show()"
   ]
  },
  {
   "cell_type": "markdown",
   "metadata": {},
   "source": [
    "# u-g vs i-z for both SFG & AGN after classification"
   ]
  },
  {
   "cell_type": "code",
   "execution_count": 52,
   "metadata": {},
   "outputs": [
    {
     "data": {
      "image/png": "[encoded data removed]",
      "text/plain": [
       "<Figure size 432x288 with 1 Axes>"
      ]
     },
     "metadata": {
      "needs_background": "light"
     },
     "output_type": "display_data"
    }
   ],
   "source": [
    "#For SFG\n",
    "a = u_g =[]\n",
    "b = i_z =[]\n",
    "\n",
    "for data_point in ac:\n",
    "    if data_point[-1]=='STARFORMING':\n",
    "        a.append(data_point[-5])\n",
    "        b.append(data_point[-2])\n",
    "    else:\n",
    "        pass\n",
    "\n",
    "#For AGN\n",
    "c = u_g =[]\n",
    "d = i_z =[]\n",
    "\n",
    "for data_point in ac:\n",
    "    if data_point[-1]=='AGN':\n",
    "        c.append(data_point[-5])\n",
    "        d.append(data_point[-2])\n",
    "    else:\n",
    "        pass\n",
    "    \n",
    "plt.xlabel('i-z')\n",
    "plt.ylabel('u-g')\n",
    "plt.title('u-g vs i-z')\n",
    "plt.xlim(-1.5, 1.5)\n",
    "plt.ylim(-1.5, 1.5)\n",
    "plt.gca().scatter(b, a, color='red', marker='o')\n",
    "plt.gca().scatter(d, c, color='blue', marker='o')\n",
    "plt.gca().legend(('SFG','AGN'), loc = 'upper right', numpoints = 1)\n",
    "plt.savefig('u-g_vs_i-z_for_both_SFG_&_AGN_after_classification_RF_c_only.png')\n",
    "plt.show()"
   ]
  },
  {
   "cell_type": "markdown",
   "metadata": {},
   "source": [
    "# g-r vs i-z for both SFG & AGN after classification"
   ]
  },
  {
   "cell_type": "code",
   "execution_count": 54,
   "metadata": {},
   "outputs": [
    {
     "data": {
      "image/png": "[encoded data removed]",
      "text/plain": [
       "<Figure size 432x288 with 1 Axes>"
      ]
     },
     "metadata": {
      "needs_background": "light"
     },
     "output_type": "display_data"
    }
   ],
   "source": [
    "# For SFG\n",
    "a = i_z =[]\n",
    "b = g_r =[]\n",
    "\n",
    "for data_point in ac:\n",
    "    if data_point[-1]=='STARFORMING':\n",
    "        a.append(data_point[-2])\n",
    "        b.append(data_point[-4])\n",
    "    else:\n",
    "        pass\n",
    "\n",
    "#For AGN\n",
    "c = i_z =[]\n",
    "d = g_r =[]\n",
    "\n",
    "for data_point in ac:\n",
    "    if data_point[-1]=='AGN':\n",
    "        c.append(data_point[-2])\n",
    "        d.append(data_point[-4])\n",
    "    else:\n",
    "        pass\n",
    "    \n",
    "plt.xlabel('i-z')\n",
    "plt.ylabel('g-r')\n",
    "plt.title('g-r vs i-z')\n",
    "plt.xlim(-1.5, 1.5)\n",
    "plt.ylim(-3.5, 3.5)\n",
    "plt.gca().scatter(a, b, color='red', marker='o')\n",
    "plt.gca().scatter(c, d, color='blue', marker='o')\n",
    "plt.gca().legend(('SFG','AGN'), loc = 'upper right', numpoints = 1)\n",
    "plt.savefig('g-r_vs_i-z_for_both_SFG_&_AGN_after_classification_RF_c_only.png')\n",
    "plt.show()"
   ]
  },
  {
   "cell_type": "markdown",
   "metadata": {},
   "source": [
    "# u-g vs r-i for both SFG & AGN after classification"
   ]
  },
  {
   "cell_type": "code",
   "execution_count": 56,
   "metadata": {},
   "outputs": [
    {
     "data": {
      "image/png": "[encoded data removed]",
      "text/plain": [
       "<Figure size 432x288 with 1 Axes>"
      ]
     },
     "metadata": {
      "needs_background": "light"
     },
     "output_type": "display_data"
    }
   ],
   "source": [
    "# For SFG\n",
    "a = r_i =[]\n",
    "b = u_g =[]\n",
    "\n",
    "for data_point in ac:\n",
    "    if data_point[-1]=='STARFORMING':\n",
    "        a.append(data_point[-3])\n",
    "        b.append(data_point[-5])\n",
    "    else:\n",
    "        pass\n",
    "\n",
    "#For AGN\n",
    "c = r_i =[]\n",
    "d = u_g =[]\n",
    "\n",
    "for data_point in ac:\n",
    "    if data_point[-1]=='AGN':\n",
    "        c.append(data_point[-3])\n",
    "        d.append(data_point[-5])\n",
    "    else:\n",
    "        pass\n",
    "    \n",
    "plt.xlabel('r-i')\n",
    "plt.ylabel('u-g')\n",
    "plt.title('u-g vs r-i')\n",
    "plt.xlim(-1.5, 1.5)\n",
    "plt.ylim(-2, 2)\n",
    "plt.gca().scatter(a, b, color='red', marker='o')\n",
    "plt.gca().scatter(c, d, color='blue', marker='o')\n",
    "plt.gca().legend(('SFG','AGN'), loc = 'upper right', numpoints = 1)\n",
    "plt.savefig('u-g_vs_r-i_for_both_SFG_&_AGN_after_classification_RF_c_only.png')\n",
    "plt.show()"
   ]
  },
  {
   "cell_type": "code",
   "execution_count": null,
   "metadata": {},
   "outputs": [],
   "source": []
  }
 ],
 "metadata": {
  "kernelspec": {
   "display_name": "Python 3 (ipykernel)",
   "language": "python",
   "name": "python3"
  },
  "language_info": {
   "codemirror_mode": {
    "name": "ipython",
    "version": 3
   },
   "file_extension": ".py",
   "mimetype": "text/x-python",
   "name": "python",
   "nbconvert_exporter": "python",
   "pygments_lexer": "ipython3",
   "version": "3.9.13"
  }
 },
 "nbformat": 4,
 "nbformat_minor": 2
}
